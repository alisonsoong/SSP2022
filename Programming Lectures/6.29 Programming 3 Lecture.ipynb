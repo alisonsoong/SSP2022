{
 "cells": [
  {
   "cell_type": "code",
   "execution_count": 1,
   "id": "17294ffa",
   "metadata": {},
   "outputs": [],
   "source": [
    "import numpy as np\n",
    "def det3x3(m):\n",
    "    return m[0,0]*(m[1,1]*m[2,2] - m[1,2]*m[2,1]) - m[0,1]*(m[1,0]*m[2,2] - m[1,2]*m[2,0]) + m[0,2]*(m[1,0]*m[2,1] - m[1,1]*m[2,0])\n"
   ]
  },
  {
   "cell_type": "code",
   "execution_count": 3,
   "id": "59fae75a",
   "metadata": {},
   "outputs": [
    {
     "data": {
      "text/plain": [
       "array([[0., 1., 0.],\n",
       "       [0., 1., 0.],\n",
       "       [0., 1., 0.]])"
      ]
     },
     "execution_count": 3,
     "metadata": {},
     "output_type": "execute_result"
    }
   ],
   "source": [
    "def spliceCol(m,c,j):\n",
    "    '''\n",
    "    m: 3x3 coefficent matrix\n",
    "    c: 3x1 constant column\n",
    "    j: column num\n",
    "    '''\n",
    "    res=np.copy(m)\n",
    "    res[:,j]=c\n",
    "    return res\n",
    "\n",
    "spliceCol(np.zeros((3,3)), np.array([1,1,1]), 1)"
   ]
  },
  {
   "cell_type": "code",
   "execution_count": 9,
   "id": "8d9a4c90",
   "metadata": {},
   "outputs": [
    {
     "name": "stdout",
     "output_type": "stream",
     "text": [
      "(1.0, -2.0, 3.0)\n",
      "(1.0, -2.0, 3.0)\n",
      "(1.0, 0.46153846153846156, 0.6153846153846154)\n",
      "(1.0, 0.46153846153846156, 0.6153846153846154)\n",
      "1 0.46153846153846156 0.6153846153846154\n"
     ]
    }
   ],
   "source": [
    "def cramer(m,c):\n",
    "    '''\n",
    "    m: 3x3 coefficent matrix\n",
    "    c: 3x1 constant column\n",
    "    '''\n",
    "    D=det3x3(m)\n",
    "    Dx=det3x3(spliceCol(np.copy(m),c,0))\n",
    "    Dy=det3x3(spliceCol(np.copy(m),c,1))\n",
    "    Dz=det3x3(spliceCol(np.copy(m),c,2))\n",
    "    return (Dx/D, Dy/D, Dz/D)\n",
    "\n",
    "def troll(m,c):\n",
    "    return (det3x3(spliceCol(np.copy(m),c,0))/det3x3(m), det3x3(spliceCol(np.copy(m),c,1))/det3x3(m), det3x3(spliceCol(np.copy(m),c,2))/det3x3(m))\n",
    "\n",
    "print(cramer(np.array([[2,1,1],[1,-1,-1],[1,2,1]]), np.array([3,0,0])))\n",
    "print(troll(np.array([[2,1,1],[1,-1,-1],[1,2,1]]), np.array([3,0,0])))\n",
    "print(cramer(np.array([[2,1,-4],[2,3,1],[2,-4,3]]), np.array([0,4,2])))\n",
    "print(troll(np.array([[2,1,-4],[2,3,1],[2,-4,3]]), np.array([0,4,2])))\n",
    "print(1,6/13,8/13)"
   ]
  },
  {
   "cell_type": "code",
   "execution_count": null,
   "id": "a3341a15",
   "metadata": {},
   "outputs": [],
   "source": []
  }
 ],
 "metadata": {
  "kernelspec": {
   "display_name": "Python 3",
   "language": "python",
   "name": "python3"
  },
  "language_info": {
   "codemirror_mode": {
    "name": "ipython",
    "version": 3
   },
   "file_extension": ".py",
   "mimetype": "text/x-python",
   "name": "python",
   "nbconvert_exporter": "python",
   "pygments_lexer": "ipython3",
   "version": "3.6.15"
  }
 },
 "nbformat": 4,
 "nbformat_minor": 5
}
