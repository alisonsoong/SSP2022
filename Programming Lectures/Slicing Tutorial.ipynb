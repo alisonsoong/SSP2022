{
 "cells": [
  {
   "cell_type": "code",
   "execution_count": 2,
   "id": "d4f5e46f",
   "metadata": {},
   "outputs": [
    {
     "name": "stdout",
     "output_type": "stream",
     "text": [
      "1.  11\n",
      "2.  [10 11 12 13]\n",
      "3.  [12 13 14]\n",
      "4.  [ 9 10 11 12 13]\n",
      "5.  [ 9 10 11 12 13 14]\n",
      "6.  14 13\n",
      "7.  [14 13 12 11 10  9]\n",
      "8.  [ 9 11 13]\n",
      "9.  [10 12 14]\n",
      "10.  (5, 5)\n",
      "11.  13\n",
      "12.  [6 7 8]\n",
      "13.  [ 3  8 13 18 23]\n",
      "14.  [[ 7  8]\n",
      " [12 13]]\n",
      "15.  [[ 0  2  2  3  4]\n",
      " [ 5  2  7  8  9]\n",
      " [10  2 12 13 14]\n",
      " [15  2 17 18 19]\n",
      " [20  2 22 23 24]]\n"
     ]
    }
   ],
   "source": [
    "#Slicing an array\n",
    "from math import *\n",
    "import numpy as np\n",
    "#Let's extract (slice) pieces of an array\n",
    "oneD = np.array([9,10,11,12,13,14])    #a 1D matrix, shape is 1 x 6\n",
    "print('1. ',oneD[2])    #returns element 2, the third element. Remember: counting is always zero-based\n",
    "print('2. ',oneD[1:5])  #format is [start value: end value]. This is called a slice\n",
    "#if end value is N, the returned slice goes up to N-1.  End value is never included.\n",
    "\n",
    "print('3. ',oneD[3:])   #if end value is blank, returns everything to end of list\n",
    "print('4. ',oneD[:5])   #if start value is blank, returns everything from start of list\n",
    "print('5. ',oneD[:])    #[blank:blank] extracts all from beginning to end of list\n",
    "print('6. ',oneD[-1], oneD[-2])   #negative positions return values counting backwards from end of the list\n",
    "print('7. ',oneD[-1::-1]) #this reverses the list; start = -1 = last value: end = blank = \"end\" of list : step = -1 means count backwards\n",
    "print('8. ',oneD[0:5:2])  #format is [start value: end value: step], extracts every 2nd value\n",
    "print('9. ',oneD[1::2])   #[1:blank:2] means starting element 1, going to end of list, skipping every other item\n",
    "\n",
    "#Let's slice up a matrix\n",
    "twoD = np.array([[0,1,2,3,4],\n",
    "                [5,6,7,8,9],\n",
    "                [10,11,12,13,14],\n",
    "                [15,16,17,18,19],\n",
    "                [20,21,22,23,24]])\n",
    "\n",
    "print('10. ',np.shape(twoD))   #returns shape, in this case shape is 5x5, returns tuple (5,5)\n",
    "print('11. ',twoD[2,3])   #this is row = 2, column = 3, equivalent to twoD[2][3]\n",
    "print('12. ',twoD[1,1:4])  #row 1, sliced from column 1 to column 3 (= 4-1)\n",
    "print('13. ',twoD[:,3])    #extracts all of column 3\n",
    "print('14. ',twoD[1:3,2:4]) #extracts 2x2 array \n",
    "#format is [start row:end row, start col:end col]\n",
    "\n",
    "#Suppose I want to replace column 1 with a new column vector [2,2,2,2,2]\n",
    "v = np.array([2,2,2,2,2])\n",
    "twoD[:,1] = v\n",
    "print('15. ',twoD)\n",
    "\n",
    "#That's all for now.\n"
   ]
  },
  {
   "cell_type": "code",
   "execution_count": null,
   "id": "c00b6fe9",
   "metadata": {},
   "outputs": [],
   "source": []
  },
  {
   "cell_type": "code",
   "execution_count": null,
   "id": "e7bdcff5",
   "metadata": {},
   "outputs": [],
   "source": []
  }
 ],
 "metadata": {
  "kernelspec": {
   "display_name": "Python 3",
   "language": "python",
   "name": "python3"
  },
  "language_info": {
   "codemirror_mode": {
    "name": "ipython",
    "version": 3
   },
   "file_extension": ".py",
   "mimetype": "text/x-python",
   "name": "python",
   "nbconvert_exporter": "python",
   "pygments_lexer": "ipython3",
   "version": "3.6.13"
  }
 },
 "nbformat": 4,
 "nbformat_minor": 5
}
