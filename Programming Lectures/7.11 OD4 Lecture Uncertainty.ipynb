{
 "cells": [
  {
   "cell_type": "code",
   "execution_count": 10,
   "id": "a3e8685d",
   "metadata": {},
   "outputs": [],
   "source": [
    "import random as rand\n",
    "import matplotlib.pyplot as plt\n",
    "import math"
   ]
  },
  {
   "cell_type": "code",
   "execution_count": 53,
   "id": "3200bd73",
   "metadata": {},
   "outputs": [
    {
     "name": "stdout",
     "output_type": "stream",
     "text": [
      "3.1440200000000003 3.141592653589793 0.07726483595616686\n"
     ]
    },
    {
     "data": {
      "image/png": "[encoded data removed]",
      "text/plain": [
       "<Figure size 432x288 with 1 Axes>"
      ]
     },
     "metadata": {
      "needs_background": "light"
     },
     "output_type": "display_data"
    }
   ],
   "source": [
    "def comp(N,x): # N=num of times, x=number of values,bins=#of bins\n",
    "    res=[]\n",
    "    vals=[]\n",
    "    for t in range(N):\n",
    "        numCirc=0\n",
    "        for i in range(x):\n",
    "            val = math.sqrt(rand.uniform(-1,1)**2+rand.uniform(-1,1)**2)\n",
    "            if val<=1: numCirc+=1\n",
    "            vals.append(val)\n",
    "        #print(numCirc/x*4, math.pi, abs((math.pi-numCirc/x*4))/math.pi*100)\n",
    "        res.append(numCirc/x*4)\n",
    "    \n",
    "    avg=sum(res)/len(res)\n",
    "    print(avg, math.pi, abs((math.pi-avg))/math.pi*100)\n",
    "    plt.hist(vals)\n",
    "    plt.show()\n",
    "    \n",
    "comp(50,4000)"
   ]
  },
  {
   "cell_type": "code",
   "execution_count": null,
   "id": "ca8755b4",
   "metadata": {},
   "outputs": [],
   "source": []
  },
  {
   "cell_type": "code",
   "execution_count": null,
   "id": "14328850",
   "metadata": {},
   "outputs": [],
   "source": []
  }
 ],
 "metadata": {
  "kernelspec": {
   "display_name": "Python 3",
   "language": "python",
   "name": "python3"
  },
  "language_info": {
   "codemirror_mode": {
    "name": "ipython",
    "version": 3
   },
   "file_extension": ".py",
   "mimetype": "text/x-python",
   "name": "python",
   "nbconvert_exporter": "python",
   "pygments_lexer": "ipython3",
   "version": "3.6.15"
  }
 },
 "nbformat": 4,
 "nbformat_minor": 5
}
