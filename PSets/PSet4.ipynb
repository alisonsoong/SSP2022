{
 "cells": [
  {
   "cell_type": "code",
   "execution_count": 1,
   "id": "304e1202",
   "metadata": {},
   "outputs": [],
   "source": [
    "import numpy as np\n",
    "import math\n",
    "import matplotlib.pyplot as plt\n",
    "import random"
   ]
  },
  {
   "cell_type": "code",
   "execution_count": 6,
   "id": "18e65d16",
   "metadata": {},
   "outputs": [
    {
     "data": {
      "image/png": "[encoded data removed]",
      "text/plain": [
       "<Figure size 432x288 with 1 Axes>"
      ]
     },
     "metadata": {
      "needs_background": "light"
     },
     "output_type": "display_data"
    }
   ],
   "source": [
    "def dot(v1:list, v2:list)->float:\n",
    "    '''Returns the dot product of two 3D vectors'''\n",
    "    return v1[0]*v2[0]+v1[1]*v2[1]+v1[2]*v2[2]\n",
    "\n",
    "def cross(v1:list, v2:list)->list:\n",
    "    '''Returns the cross product of two 3D vectors'''\n",
    "    return [(v1[1]*v2[2] - v1[2]*v2[1]),-(v1[0]*v2[2] - v1[2]*v2[0]),(v1[0]*v2[1] - v1[1]*v2[0])]\n",
    "\n",
    "def det2x2(m)->float:\n",
    "    '''Returns the determinant of a 2x2'''\n",
    "    return m[0][0]*m[1][1]-m[0][1]*m[1][0]\n",
    "\n",
    "def leastSqFit(x,y):\n",
    "    N=len(list(x))\n",
    "    sumProdXY=sum([x[i]*y[i] for i in range(N)])\n",
    "    sumX=sum([x[i] for i in range(N)])\n",
    "    sumY=sum([y[i] for i in range(N)])\n",
    "    sumXSq=sum([x[i]*x[i] for i in range(N)])\n",
    "    sumYSq=sum([y[i]*y[i] for i in range(N)])\n",
    "    #print(N,sumProdXY,sumX,sumY,sumXSq,sumYSq)\n",
    "    \n",
    "    Dm=det2x2([[sumProdXY, sumX],[sumY, N]])\n",
    "    D=det2x2([[sumXSq, sumX],[sumX, N]])\n",
    "    m=Dm/D\n",
    "    \n",
    "    Db=det2x2([[sumXSq, sumProdXY],[sumX, sumY]])\n",
    "    D=det2x2([[sumXSq, sumX],[sumX, N]])\n",
    "    b=Db/D\n",
    "    #print(m,b)\n",
    "    \n",
    "    X=np.arange(0,12,0.1)\n",
    "    Y=m*X+b\n",
    "    plt.plot(X,Y)\n",
    "    plt.plot(x,y,'ro')\n",
    "    plt.show()\n",
    "    \n",
    "def leastSqFit(vals):\n",
    "    N=len(list(vals))\n",
    "    x=vals[:,0]\n",
    "    y=vals[:,1]\n",
    "    sumProdXY=sum([x[i]*y[i] for i in range(N)])\n",
    "    sumX=sum([x[i] for i in range(N)])\n",
    "    sumY=sum([y[i] for i in range(N)])\n",
    "    sumXSq=sum([x[i]*x[i] for i in range(N)])\n",
    "    sumYSq=sum([y[i]*y[i] for i in range(N)])\n",
    "    #print(N,sumProdXY,sumX,sumY,sumXSq,sumYSq)\n",
    "    \n",
    "    Dm=det2x2([[sumProdXY, sumX],[sumY, N]])\n",
    "    D=det2x2([[sumXSq, sumX],[sumX, N]])\n",
    "    m=Dm/D\n",
    "    \n",
    "    Db=det2x2([[sumXSq, sumProdXY],[sumX, sumY]])\n",
    "    D=det2x2([[sumXSq, sumX],[sumX, N]])\n",
    "    b=Db/D\n",
    "    #print(m,b)\n",
    "    \n",
    "    X=np.arange(0,12,0.1)\n",
    "    Y=m*X+b\n",
    "    plt.plot(X,Y)\n",
    "    plt.plot(x,y,'ro')\n",
    "    plt.show()\n",
    "    \n",
    "def prob7():\n",
    "    #x=np.array([1,2,3,4,5])\n",
    "    #x=np.random.rand(12)*12\n",
    "    #y=np.array([2,5,7,8,10])\n",
    "    #y=np.random.rand(12)*12\n",
    "    vals=np.array([(random.randrange(0,12),random.randrange(0,12)) for i in range(12)])\n",
    "    #print(vals)\n",
    "    #print(x,\"\\n\",y)\n",
    "    leastSqFit(vals)\n",
    "    \n",
    "prob7()"
   ]
  },
  {
   "cell_type": "code",
   "execution_count": null,
   "id": "7429014e",
   "metadata": {},
   "outputs": [],
   "source": []
  },
  {
   "cell_type": "code",
   "execution_count": null,
   "id": "62a58ac7",
   "metadata": {},
   "outputs": [],
   "source": []
  },
  {
   "cell_type": "code",
   "execution_count": null,
   "id": "48edbe1e",
   "metadata": {},
   "outputs": [],
   "source": []
  }
 ],
 "metadata": {
  "kernelspec": {
   "display_name": "Python 3",
   "language": "python",
   "name": "python3"
  },
  "language_info": {
   "codemirror_mode": {
    "name": "ipython",
    "version": 3
   },
   "file_extension": ".py",
   "mimetype": "text/x-python",
   "name": "python",
   "nbconvert_exporter": "python",
   "pygments_lexer": "ipython3",
   "version": "3.6.15"
  }
 },
 "nbformat": 4,
 "nbformat_minor": 5
}
