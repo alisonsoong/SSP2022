{
 "cells": [
  {
   "cell_type": "code",
   "execution_count": 33,
   "id": "fa59c1d6",
   "metadata": {},
   "outputs": [],
   "source": [
    "import numpy as np\n",
    "import math\n",
    "import matplotlib.pyplot as plt\n",
    "import random as rand"
   ]
  },
  {
   "cell_type": "code",
   "execution_count": 109,
   "id": "f8a36951",
   "metadata": {},
   "outputs": [
    {
     "data": {
      "image/png": "[encoded data removed]",
      "text/plain": [
       "<Figure size 432x288 with 1 Axes>"
      ]
     },
     "metadata": {
      "needs_background": "light"
     },
     "output_type": "display_data"
    },
    {
     "name": "stdout",
     "output_type": "stream",
     "text": [
      "rmse: 50.730251074458906 pred: 50.0 err: 1.4605021489178114\n"
     ]
    },
    {
     "data": {
      "text/plain": [
       "(65.27330386485316, 47.93328960611441)"
      ]
     },
     "execution_count": 109,
     "metadata": {},
     "output_type": "execute_result"
    }
   ],
   "source": [
    "# 2a\n",
    "\n",
    "def randWalk(N:int,r:float):\n",
    "    xpos,ypos=[],[]\n",
    "    x,y=0,0\n",
    "    for i in range(N):\n",
    "        angle=rand.random()*2*math.pi\n",
    "        x,y=x+r*math.cos(angle),y+r*math.sin(angle)\n",
    "        xpos.append(x)\n",
    "        ypos.append(y)\n",
    "        \n",
    "    plt.plot(0,0,'ro')\n",
    "    plt.plot(xpos,ypos,'bo',markersize=2)\n",
    "    plt.show()\n",
    "    \n",
    "    rmse = math.sqrt(sum([xpos[i]**2+ypos[i]**2 for i in range(N)])/N)\n",
    "    #print([xpos[i]**2+ypos[i]**2 for i in range(N)])\n",
    "    print(\"rmse:\", rmse, \"pred:\", math.sqrt(N)*r, \"err:\", abs(math.sqrt(N)*r-rmse)/(math.sqrt(N)*r)*100)\n",
    "    \n",
    "    return x,y\n",
    "\n",
    "    \n",
    "randWalk(100,5)\n",
    "\n"
   ]
  },
  {
   "cell_type": "code",
   "execution_count": 110,
   "id": "764c9efe",
   "metadata": {},
   "outputs": [
    {
     "name": "stdout",
     "output_type": "stream",
     "text": [
      "average: 44.58307569726817\n"
     ]
    },
    {
     "data": {
      "image/png": "[encoded data removed]",
      "text/plain": [
       "<Figure size 432x288 with 1 Axes>"
      ]
     },
     "metadata": {
      "needs_background": "light"
     },
     "output_type": "display_data"
    }
   ],
   "source": [
    "def randWalk2(N:int,r:float,trials:int):\n",
    "    dist=[]\n",
    "    for j in range(trials):\n",
    "        x,y=0,0\n",
    "        for i in range(N):\n",
    "            angle=rand.random()*2*math.pi\n",
    "            x,y=x+r*math.cos(angle),y+r*math.sin(angle)\n",
    "        dist.append(math.sqrt(x**2+y**2))\n",
    "        \n",
    "    plt.hist(dist,bins=20)\n",
    "    print(\"average:\", sum(dist)/trials)\n",
    "    \n",
    "        \n",
    "\n",
    "randWalk2(100,5,1000)"
   ]
  },
  {
   "cell_type": "code",
   "execution_count": null,
   "id": "82330af7",
   "metadata": {},
   "outputs": [],
   "source": []
  },
  {
   "cell_type": "code",
   "execution_count": 31,
   "id": "f8088797",
   "metadata": {},
   "outputs": [
    {
     "name": "stdout",
     "output_type": "stream",
     "text": [
      "results: 6.757 +/- 0.051\n",
      "results: 7.733 +/- 0.051\n"
     ]
    },
    {
     "data": {
      "image/png": "[encoded data removed]",
      "text/plain": [
       "<Figure size 432x288 with 2 Axes>"
      ]
     },
     "metadata": {
      "needs_background": "light"
     },
     "output_type": "display_data"
    }
   ],
   "source": [
    "# 8\n",
    "def centroid():\n",
    "    info=np.loadtxt(\"/home/soonali/Documents/PSets/centroidData.csv\",dtype=float,delimiter=\",\")\n",
    "\n",
    "    xcm=sum([x*info[y][x] for y in range(len(info)) for x in range(len(info[0]))])/np.sum(info)\n",
    "    ycm=sum([y*info[y][x] for y in range(len(info)) for x in range(len(info[0]))])/np.sum(info)\n",
    "    #print(\"(xcm,ycm) =\",(round(xcm,3),round(ycm,3)))\n",
    "    \n",
    "    dxcm = 1/np.sum(info) * math.sqrt(sum([(x-xcm)**2*info[y][x] for y in range(len(info)) for x in range(len(info[0]))]))\n",
    "    dycm = 1/np.sum(info) * math.sqrt(sum([(y-ycm)**2*info[y][x] for y in range(len(info)) for x in range(len(info[0]))]))\n",
    "    #print(\"(dxcm,dycm) =\",(round(dxcm,3),round(dycm,3)))\n",
    "    \n",
    "    print(\"results:\", round(xcm,3), \"+/-\", round(dxcm,3))\n",
    "    print(\"results:\", round(ycm,3), \"+/-\", round(dycm,3))\n",
    "    \n",
    "    mp=plt.imshow(info)\n",
    "    plt.colorbar(mp)\n",
    "    plt.plot(xcm,ycm,'+')\n",
    "    plt.show()\n",
    "    \n",
    "centroid()"
   ]
  },
  {
   "cell_type": "code",
   "execution_count": null,
   "id": "4a80ac2e",
   "metadata": {},
   "outputs": [],
   "source": []
  }
 ],
 "metadata": {
  "kernelspec": {
   "display_name": "Python 3",
   "language": "python",
   "name": "python3"
  },
  "language_info": {
   "codemirror_mode": {
    "name": "ipython",
    "version": 3
   },
   "file_extension": ".py",
   "mimetype": "text/x-python",
   "name": "python",
   "nbconvert_exporter": "python",
   "pygments_lexer": "ipython3",
   "version": "3.6.15"
  }
 },
 "nbformat": 4,
 "nbformat_minor": 5
}
