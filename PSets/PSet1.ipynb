{
 "cells": [
  {
   "cell_type": "code",
   "execution_count": 2,
   "id": "a691ae1b",
   "metadata": {},
   "outputs": [
    {
     "name": "stdout",
     "output_type": "stream",
     "text": [
      "108.31666666666666\n"
     ]
    }
   ],
   "source": [
    "# PS1-12\n",
    "\n",
    "import math\n",
    "\n",
    "def PS1(h, m, s, conv=False):\n",
    "    return DecToRad(HMStoDeg(h,m,s)) if conv else HMStoDeg(h,m,s)\n",
    "        \n",
    "def HMStoDegInput():\n",
    "    print(\"Enter RA hours, minutes, seconds to convert to decimals\")\n",
    "    while True:\n",
    "        try:\n",
    "            h = float(input(\"RA Hours: \"))\n",
    "            m = float(input(\"RA Minutes: \"))\n",
    "            s = float(input(\"RA Seconds: \"))\n",
    "            break\n",
    "        except:\n",
    "            print(\"Enter valid floating point numbers, please!\")\n",
    "            \n",
    "    res=HMStoDeg(h,m,s)\n",
    "    \n",
    "    if \"Y\" in input(\"Convert to radians? Y or N: \"):\n",
    "        print(\"Result in radians:\", decToRad(res))\n",
    "    else: print(\"Result in degrees:\", res)\n",
    "\n",
    "def HMStoDeg(h,m,s):\n",
    "    try: h,m,s=float(h),float(m),float(s)\n",
    "    except: raise Exception(\"Values must be floats\")\n",
    "    res = h*15 + m/60*15 + s/3600*15\n",
    "    res%=360\n",
    "    return res\n",
    "\n",
    "def DecToRad(dec):\n",
    "    return float(dec)/180*math.pi\n",
    "\n",
    "print(HMStoDeg(7,13,16))\n"
   ]
  },
  {
   "cell_type": "code",
   "execution_count": null,
   "id": "7d1c6e4f",
   "metadata": {},
   "outputs": [],
   "source": [
    "# PS1-13\n",
    "# a\n",
    "def dot(v1, v2):\n",
    "    # 3d vector\n",
    "    return v1[0]*v2[0]+v1[1]*v2[1]+v1[2]*v2[2]\n",
    "\n",
    "# b\n",
    "def cross(v1, v2):\n",
    "    return [(v1[1]*v2[2] - v1[2]*v2[1]),-(v1[0]*v2[2] - v1[2]*v2[0]),(v1[0]*v2[1] - v1[1]*v2[0])]\n",
    "\n",
    "# c\n",
    "def tripleProd(vec1, vec2, vec3):\n",
    "    return dot(vec1, cross(vec2,vec3))"
   ]
  }
 ],
 "metadata": {
  "kernelspec": {
   "display_name": "Python 3",
   "language": "python",
   "name": "python3"
  },
  "language_info": {
   "codemirror_mode": {
    "name": "ipython",
    "version": 3
   },
   "file_extension": ".py",
   "mimetype": "text/x-python",
   "name": "python",
   "nbconvert_exporter": "python",
   "pygments_lexer": "ipython3",
   "version": "3.6.15"
  }
 },
 "nbformat": 4,
 "nbformat_minor": 5
}
