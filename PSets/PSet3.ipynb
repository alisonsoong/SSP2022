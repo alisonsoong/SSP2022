{
 "cells": [
  {
   "cell_type": "code",
   "execution_count": 2,
   "id": "06b766b4",
   "metadata": {},
   "outputs": [],
   "source": [
    "import numpy as np\n",
    "import math"
   ]
  },
  {
   "cell_type": "code",
   "execution_count": null,
   "id": "aca30c25",
   "metadata": {},
   "outputs": [],
   "source": []
  },
  {
   "cell_type": "code",
   "execution_count": 4,
   "id": "8cc1ae54",
   "metadata": {},
   "outputs": [
    {
     "name": "stdout",
     "output_type": "stream",
     "text": [
      "a: Tomato\n",
      "b: [['Grapefruit' 'Kumquat']\n",
      " ['Orange' 'Tangerine']]\n",
      "c: [['Apple' 'Banana' 'Blueberry' 'Cherry']\n",
      " ['Nectarine' 'Orange' 'Tangerine' 'Pomegranate']]\n",
      "d: [['Tangerine' 'Orange']\n",
      " ['Kumquat' 'Grapefruit']]\n",
      "e: [['Cherry' 'Banana' 'Blueberry' 'Apple']\n",
      " ['Mango' 'Grapefruit' 'Kumquat' 'Coconut']\n",
      " ['Pomegranate' 'Orange' 'Tangerine' 'Nectarine']\n",
      " ['Tomato' 'Raspberry' 'Strawberry' 'Lemon']]\n",
      "f: [['SLICED!' 'SLICED!' 'SLICED!' 'SLICED!']\n",
      " ['SLICED!' 'SLICED!' 'SLICED!' 'SLICED!']\n",
      " ['SLICED!' 'SLICED!' 'SLICED!' 'SLICED!']\n",
      " ['SLICED!' 'SLICED!' 'SLICED!' 'SLICED!']]\n"
     ]
    }
   ],
   "source": [
    "# 5\n",
    "fruits = np.array([[\"Apple\", \"Banana\", \"Blueberry\", \"Cherry\"],\n",
    "                   [\"Coconut\", \"Grapefruit\", \"Kumquat\",\"Mango\"], \n",
    "                   [\"Nectarine\", \"Orange\", \"Tangerine\", \"Pomegranate\"], \n",
    "                   [\"Lemon\", \"Raspberry\", \"Strawberry\", \"Tomato\"]])\n",
    "\n",
    "# a\n",
    "print(\"a:\",fruits[3,3])\n",
    "\n",
    "# b\n",
    "print(\"b:\",fruits[1:3,1:3])\n",
    "\n",
    "# c\n",
    "print(\"c:\",fruits[0:3:2,:])\n",
    "\n",
    "# d\n",
    "print(\"d:\",fruits[2:0:-1,2:0:-1])\n",
    "\n",
    "# e\n",
    "fruits[:,0],fruits[:,3]=np.copy(fruits[:,3]),np.copy(fruits[:,0]) #! simultaneous assignment\n",
    "print(\"e:\",fruits)\n",
    "\n",
    "# f\n",
    "fruits[fruits>\"\"]=\"SLICED!\"\n",
    "#fruits[:,:]=\"SLICED!\"\n",
    "print(\"f:\",fruits)"
   ]
  },
  {
   "cell_type": "code",
   "execution_count": null,
   "id": "b11167f0",
   "metadata": {},
   "outputs": [],
   "source": []
  },
  {
   "cell_type": "code",
   "execution_count": 82,
   "id": "5797e384",
   "metadata": {},
   "outputs": [
    {
     "name": "stdout",
     "output_type": "stream",
     "text": [
      "(11.99999991950545, 50.0)\n",
      "(11.662443774477767, 10.338724105417388)\n"
     ]
    },
    {
     "data": {
      "text/plain": [
       "(10.609974491201438, 55.13779627047714)"
      ]
     },
     "execution_count": 82,
     "metadata": {},
     "output_type": "execute_result"
    }
   ],
   "source": [
    "# 6\n",
    "def decToRad(dec):\n",
    "    return float(dec)/180*math.pi\n",
    "\n",
    "def HMStoDeg(h,m,s,conv=False):\n",
    "    try: h,m,s=float(h),float(m),float(s)\n",
    "    except: raise Exception(\"Values must be floats\")\n",
    "    res = h*15 + m/60*15 + s/3600*15\n",
    "    res%=360\n",
    "    if conv: return decToRad(res)\n",
    "    return res\n",
    "\n",
    "def getRADec(alt:float,az:float,lst:float):\n",
    "    #convert to radians\n",
    "    alt*=math.pi/180\n",
    "    az*=math.pi/180\n",
    "    lst=HMStoDeg(lst[0],lst[1],lst[2],conv=True)\n",
    "    lat=decToRad(40.0)\n",
    "\n",
    "    dec=math.asin(math.sin(lat)*math.sin(alt)+math.cos(lat)*math.cos(alt)*math.cos(az))\n",
    "    rdec=dec\n",
    "    dec=math.degrees(dec)\n",
    "    if abs(round(dec,0)-dec)<0.000001: dec=round(dec,0)\n",
    "\n",
    "    ha=math.acos((math.sin(alt)-math.sin(lat)*math.sin(rdec))/(math.cos(lat)*math.cos(rdec)))\n",
    "    \n",
    "    if az<math.pi: ha*=-1\n",
    "    ra=(lst-ha) * 180/ math.pi / 15\n",
    "    if ra < 0: ra += 24\n",
    "        \n",
    "    return (ra,dec)\n",
    "    \n",
    "print(getRADec(0, 0, (0, 0, 0)))\n",
    "print(getRADec(60, 190, (12, 0, 0)))\n",
    "getRADec(10,20,[1,1,1])"
   ]
  },
  {
   "cell_type": "code",
   "execution_count": null,
   "id": "0a7fc80a",
   "metadata": {},
   "outputs": [],
   "source": []
  },
  {
   "cell_type": "code",
   "execution_count": null,
   "id": "ee7f0c81",
   "metadata": {},
   "outputs": [],
   "source": []
  }
 ],
 "metadata": {
  "kernelspec": {
   "display_name": "Python 3",
   "language": "python",
   "name": "python3"
  },
  "language_info": {
   "codemirror_mode": {
    "name": "ipython",
    "version": 3
   },
   "file_extension": ".py",
   "mimetype": "text/x-python",
   "name": "python",
   "nbconvert_exporter": "python",
   "pygments_lexer": "ipython3",
   "version": "3.6.15"
  }
 },
 "nbformat": 4,
 "nbformat_minor": 5
}
