{
 "cells": [
  {
   "cell_type": "code",
   "execution_count": 5,
   "id": "dbc85723",
   "metadata": {},
   "outputs": [
    {
     "name": "stdout",
     "output_type": "stream",
     "text": [
      "instructions argh\n"
     ]
    }
   ],
   "source": [
    "'''\n",
    "OD code 1 – Angular Momentum  \n",
    "Your goal is to write a Python function that determines the angular momentum of a \n",
    "test asteroid. We are going to use 2002 QF15, 00:00:00 UT on July 14, 2018.  \n",
    " \n",
    "1. Pull the test data off Horizons  \n",
    "You need the position and the velocity of the asteroid at the time and date specified \n",
    "above. Get ephemeris data for 2002 QF15 with the following options  \n",
    " \n",
    "Ephemeris Type [change] :  VECTORS  \n",
    "Target Body [change] :  68950 (2002 QF15)  \n",
    "Coordinate Origin [change] :  Sun (body center) [500@10]  \n",
    "Time Span [change] :  Start=2018-07-13, Stop=2018-07-15, Step=1 h  \n",
    "Table Settings [change] :  Defaults  \n",
    "Display/Output [change] :  default (formatted HTML)  \n",
    "  \n",
    "Click on “change” next to Table Settings and make sure to select “Ecliptic and \n",
    "mean equinox of reference epoch”.  \n",
    " \n",
    "2. Write your test code  \n",
    "This code is going to grow and become your OD code, and so we want to get \n",
    "into good habits right now.  \n",
    "• Create functions and put them in a file called “odlib.py”.  \n",
    "The functions can be imported from odlib into jupyter notebook to test \n",
    "function calls. \n",
    "• Put the data you pulled from Horizons in a file that you read in. Name that \n",
    "file LastnameInput.txt.  \n",
    " \n",
    "To help us check your code, we ask that you follow the following guidelines for \n",
    "program output.  \n",
    " \n",
    "• Your program should output the angular momentum vector rounded to 6 \n",
    "decimal places  \n",
    "• You should be getting <-0.341081, 0.228006, 0.873642>. If you are not \n",
    "getting that, first check your time units (we want to work in AU and \n",
    "Gaussian days for the OD).  \n",
    "• If your code is running fine, write “runs fine” as a comment when \n",
    "submitting. If you could not get your code to work correctly by the time of \n",
    "submission, explain what problem you are still having with the code at the \n",
    "time of submission.  \n",
    "'''\n",
    "print(\"instructions argh\")"
   ]
  },
  {
   "cell_type": "code",
   "execution_count": 38,
   "id": "4dab42b4",
   "metadata": {},
   "outputs": [
    {
     "name": "stdout",
     "output_type": "stream",
     "text": [
      "[-0.341081, 0.228006, 0.873642]\n"
     ]
    }
   ],
   "source": [
    "import numpy as np\n",
    "import math\n",
    "\n",
    "def formatInfo():\n",
    "    info=np.loadtxt(\"/home/soonali/Documents/SoongInput2.txt\",dtype=str,delimiter=\",\")\n",
    "    return [([float(info[i][2]),float(info[i][3]),float(info[i][4])], \n",
    "                    [float(info[i][5]),float(info[i][6]),float(info[i][7])]) for i in range(1,len(info))]\n",
    "\n",
    "def cross(v1:list, v2:list)->list:\n",
    "    '''Returns the cross product of two 3D vectors'''\n",
    "    return [(v1[1]*v2[2] - v1[2]*v2[1]),-(v1[0]*v2[2] - v1[2]*v2[0]),(v1[0]*v2[1] - v1[1]*v2[0])]\n",
    "\n",
    "def angMoment(val):\n",
    "    info=formatInfo()\n",
    "    try:\n",
    "        pos=info[val][0]\n",
    "        vel=info[val][1]\n",
    "        #print(pos,vel)\n",
    "        res=cross(pos,vel)\n",
    "        return [round(res[0]/(2*math.pi)*365.2568983,6), round(res[1]/(2*math.pi)*365.2568983,6), round(res[2]/(2*math.pi)*365.2568983,6)]\n",
    "    except: raise Exception (\"Out of range\")\n",
    "    \n",
    "    \n",
    "print(angMoment(24))\n"
   ]
  },
  {
   "cell_type": "code",
   "execution_count": 17,
   "id": "ec22b3b3",
   "metadata": {},
   "outputs": [],
   "source": [
    "\n",
    "def BADformatInfo():\n",
    "    f=open(\"SoongInput.txt\",'r')\n",
    "    info=f.readlines()\n",
    "    res=[]\n",
    "    print(len(info))\n",
    "    for i in range(len(info)//4):\n",
    "        rline=i*4+1\n",
    "        vline=i*4+2\n",
    "        l=info[rline].split(\"=\")\n",
    "        pos=[float(l[1][:-2]),float(l[2][:-2]),float(l[3])]\n",
    "        l=info[vline].split(\"=\")\n",
    "        vel=[float(l[1][:-3]),float(l[2][:-3]),float(l[3])]\n",
    "        res.append([pos,vel])  \n",
    "    \n",
    "    f.close()\n",
    "    # return [[[x,y,z],[vx,vy,vz]]...]\n",
    "    return res"
   ]
  },
  {
   "cell_type": "code",
   "execution_count": null,
   "id": "86ee7508",
   "metadata": {},
   "outputs": [],
   "source": []
  }
 ],
 "metadata": {
  "kernelspec": {
   "display_name": "Python 3",
   "language": "python",
   "name": "python3"
  },
  "language_info": {
   "codemirror_mode": {
    "name": "ipython",
    "version": 3
   },
   "file_extension": ".py",
   "mimetype": "text/x-python",
   "name": "python",
   "nbconvert_exporter": "python",
   "pygments_lexer": "ipython3",
   "version": "3.6.15"
  }
 },
 "nbformat": 4,
 "nbformat_minor": 5
}
