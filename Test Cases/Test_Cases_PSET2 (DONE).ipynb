{
 "cells": [
  {
   "cell_type": "markdown",
   "metadata": {},
   "source": [
    "# Test Cases for Programming Problems in PSET 2\n",
    "### By: Peter Lande\n",
    "\n",
    "Please use this code to perform unit tests to your programs. Your code must run without any failures to be considered complete. Please copy your code into the first cell and put your functions' names in the locations in the cells as indictated. Then run the third cell and show it to a TA. If it has no issues, the TA will mark off that you have finished the problem and no further work will be required. If you need help, talk to Peter and he can help."
   ]
  },
  {
   "cell_type": "code",
   "execution_count": 54,
   "metadata": {},
   "outputs": [],
   "source": [
    "#COPY YOUR CODE HERE\n",
    "\n",
    "import math\n",
    "import numpy as np\n",
    "import matplotlib.pyplot as plt\n",
    "\n",
    "def Troll(eq,a:float,b:float,N:float)->float:\n",
    "    return sum([eq(x) for x in np.arange(a+float((b-a))/N/2,b,float((b-a))/N)])*float((b-a))/N\n",
    "\n",
    "def GetAngle(sin:float,cos:float)->float:\n",
    "    '''Returns the arcsin of a value as an angle (in radians) in the correct quadrant'''\n",
    "    v = math.atan2(cos,sin)\n",
    "    if cos>0 and sin>0: # first quadrant\n",
    "        return v\n",
    "    elif cos<0 and sin>0: # second quadrant\n",
    "        return v+math.pi\n",
    "    elif cos<0 and sin<0: # third quadrant\n",
    "        return v+2*math.pi\n",
    "    elif cos>0 and sin<0: # fourth quadrant\n",
    "        return v+math.pi\n",
    "    elif cos==0:\n",
    "        if sin==1: return math.pi/2\n",
    "        if sin==-1: return 3*math.pi/2\n",
    "    elif sin==0:\n",
    "        if cos==1: return 0\n",
    "        if cos==-1: return math.pi\n",
    "    else: return -1\n",
    "    \n",
    "def DMStoDeg(d:float,arcm:float,arcs:float)->float:\n",
    "    return math.copysign(abs(d)+arcm/60+arcs/3600,d)\n",
    "\n",
    "def RAdecimalToHMS(dec:float)->tuple:\n",
    "    dec%=360\n",
    "    h=dec/15\n",
    "    m=(dec%15)/15*60\n",
    "    s=m%1*60\n",
    "    h//=1\n",
    "    m//=1\n",
    "    if (round(s,0)-s<0.00001):s=round(s,0)\n",
    "    print((h,m,s))\n",
    "    return (h,m,s)\n",
    "\n",
    "def DECdecimalToDMS(dec:float)->tuple:\n",
    "    d=math.trunc(dec)\n",
    "    dec=abs(dec)-abs(d)\n",
    "    m=math.trunc(dec*60)\n",
    "    dec-=m/60\n",
    "    s=dec*3600\n",
    "    if (round(s,0)-s<0.00001):s=round(s,0)\n",
    "    print((d,m,s))\n",
    "    return (d,m,s)\n",
    "\n",
    "def HMStoDeg(h:float,m:float,s:float,toRad:bool=False)->float:\n",
    "    try: h,m,s=float(h),float(m),float(s)\n",
    "    except: raise Exception(\"Values must be floats\")\n",
    "    res = h*15 + m/60*15 + s/3600*15\n",
    "    res%=360\n",
    "    if toRad: return res*math.pi/180\n",
    "    return res\n",
    "\n",
    "\n",
    "def magnitude(v)->float:\n",
    "    return np.sqrt(v[0]*v[0]+v[1]*v[1]+v[2]*v[2])\n",
    "\n",
    "def rot(v,alpha, beta):\n",
    "    z=np.array([[np.cos(alpha),np.sin(alpha),0],\n",
    "                [-np.sin(alpha),np.cos(alpha),0],\n",
    "                [0,0,1]])\n",
    "    x=np.array([[1,0,0],\n",
    "                [0,np.cos(beta),np.sin(beta)],\n",
    "                [0,-np.sin(beta),np.cos(beta)]])\n",
    "    return np.dot(np.matmul(x,z),v)"
   ]
  },
  {
   "cell_type": "code",
   "execution_count": 55,
   "metadata": {},
   "outputs": [],
   "source": [
    "integrate = Troll #REPLACE THIS COMMENT WITH THE NAME OF YOUR FUNCTION, PLEASE FORMAT YOUR PARAMETERS AS (integrand, lower_limit, upper_limit, subdivisons)\n",
    "sin_cos_to_angle = GetAngle #REPLACE THIS COMMENT WITH THE NAME OF YOUR FUNCTION, FORMAT AS (sine_output, cosine_output)\n",
    "dms_to_deg = DMStoDeg #REPLACE THIS COMMENT WITH THE NAME OF YOUR FUNCTION, FORMAT AS (degrees, arcminutes, arcseconds)\n",
    "deg_to_dms =DECdecimalToDMS #REPLACE THIS COMMENT WITH THE NAME OF YOUR FUNCTION, FORMAT AS (degrees) RETURN A TUPLE OF (degrees, arcminutes, arcseconds)\n",
    "ra_to_deg = HMStoDeg #REPLACE THIS COMMENT WITH THE NAME OF YOUR FUNCTION, PLEASE FORMAT YOUR PARAMETERS AS (hours, minutes, seconds, toggleRadians)\n",
    "deg_to_ra = RAdecimalToHMS #REPLACE THIS COMMENT WITH THE NAME OF YOUR FUNCTION, FORMAT AS (degrees) RETURN A TUPLE OF (hours, minutes, seconds)\n",
    "magnitude = magnitude #REPLACE THIS COMMENT WITH THE NAME OF YOUR FUNCTION, FORMAT AS (np_array)\n",
    "rotate_vector =rot #REPLACE THIS COMMENT WITH THE NAME OF YOUR FUNCTION FORMAT AS (vector, alpha, beta)"
   ]
  },
  {
   "cell_type": "code",
   "execution_count": 56,
   "metadata": {},
   "outputs": [
    {
     "name": "stderr",
     "output_type": "stream",
     "text": [
      "......"
     ]
    },
    {
     "name": "stdout",
     "output_type": "stream",
     "text": [
      "(0, 0, 0.0)\n",
      "(10, 0, 0.0)\n",
      "(-10, 0, 0.0)\n",
      "(0, 30, 0.0)\n",
      "(0, 30, 0.0)\n",
      "(0, 0, 30.0)\n",
      "(0, 0, 30.0)\n",
      "(18, 15, 27.0)\n",
      "(-18, 15, 27.0)\n",
      "(0.0, 0.0, 0.0)\n",
      "(0.0, 0.0, 0.0)\n",
      "(10.0, 0.0, 0.0)\n",
      "(0.0, 30.0, 0.0)\n",
      "(0.0, 0.0, 30.0)\n",
      "(18.0, 15.0, 27.0)\n"
     ]
    },
    {
     "name": "stderr",
     "output_type": "stream",
     "text": [
      "\n",
      "----------------------------------------------------------------------\n",
      "Ran 6 tests in 0.013s\n",
      "\n",
      "OK\n"
     ]
    },
    {
     "data": {
      "text/plain": [
       "<unittest.main.TestProgram at 0x7f21e6d887f0>"
      ]
     },
     "execution_count": 56,
     "metadata": {},
     "output_type": "execute_result"
    }
   ],
   "source": [
    "#RUN THIS AFTER RUNNING ALL OTHER CELLS; DO NOT CHANGE!!!!\n",
    "import unittest, math\n",
    "import numpy as np\n",
    "\n",
    "class TestPset1(unittest.TestCase):\n",
    "    def test_integrate(self):\n",
    "        self.assertEqual(integrate(lambda x: 0, -5, 5, 10), 0, \"Should be 0.\")\n",
    "        self.assertAlmostEqual(integrate(lambda x: 5, -5, 5, 10), 50, 3, \"Should be 50.\")\n",
    "        self.assertAlmostEqual(integrate(lambda x: x**2, -5, 5, 100), 250/3, 1, \"Should be 83.3.\")\n",
    "        self.assertAlmostEqual(integrate(lambda x: x, -5, 5, 100), 0, 5, \"Should be 0.\")\n",
    "        self.assertAlmostEqual(integrate(lambda x: np.sin(x), -5, 5, 100), 0, 6, \"Should be 0.\")\n",
    "        self.assertAlmostEqual(integrate(lambda x: np.sin(x), 0, 5, 100), 0.71634, 3, \"Should be 0.71634.\")\n",
    "        self.assertAlmostEqual(integrate(lambda x: np.sqrt(x**3+2*np.sin(10/x)), 4, 12, 100), 187.1, 1, \"Should be 187.1.\")\n",
    "    def test_cos_sin_to_angle(self):\n",
    "        self.assertEqual(sin_cos_to_angle(0.0, 1.0), 0, \"Should be 0.\")\n",
    "        self.assertAlmostEqual(sin_cos_to_angle(1.0, 0.0), math.pi/2, 4, \"Should be pi/2.\")\n",
    "        self.assertAlmostEqual(sin_cos_to_angle(0.0, -1.0), math.pi, 4, \"Should be pi.\")\n",
    "        self.assertAlmostEqual(sin_cos_to_angle(-1.0, 0.0), 3*math.pi/2, 4, \"Should be 3pi/2.\")\n",
    "        self.assertAlmostEqual(sin_cos_to_angle(1/np.sqrt(2), -1/np.sqrt(2)), 3*math.pi/4, 4, \"Should be 3pi/4.\")\n",
    "        self.assertAlmostEqual(sin_cos_to_angle(1/np.sqrt(2), 1/np.sqrt(2)), math.pi/4, 4, \"Should be 3pi/4.\")\n",
    "        self.assertAlmostEqual(sin_cos_to_angle(-1/np.sqrt(2), -1/np.sqrt(2)), 5*math.pi/4, 4, \"Should be 5pi/4.\")\n",
    "        self.assertAlmostEqual(sin_cos_to_angle(-1/np.sqrt(2), 1/np.sqrt(2)), 7*math.pi/4, 4, \"Should be 7pi/4.\")\n",
    "    def test_dec(self):\n",
    "        self.assertTupleEqual(deg_to_dms(dms_to_deg(0, 0, 0)), (0, 0, 0), \"Should be 0, 0, 0.\")\n",
    "        self.assertTupleEqual(deg_to_dms(dms_to_deg(10, 0, 0)), (10, 0, 0), \"Should be 10, 0, 0.\")\n",
    "        self.assertTupleEqual(deg_to_dms(dms_to_deg(-10, 0, 0)), (-10, 0, 0), \"Should be -10, 0, 0.\")\n",
    "        self.assertTupleEqual(deg_to_dms(dms_to_deg(0, 30, 0)), (0, 30, 0), \"Should be 0, 30, 0.\")\n",
    "        self.assertTupleEqual(deg_to_dms(dms_to_deg(-0.0, 30, 0)), (-0.0, 30, 0), \"Should be -0, 30, 0.\")\n",
    "        self.assertTupleEqual(deg_to_dms(dms_to_deg(0, 0, 30)), (0, 0, 30), \"Should be 0, 0, 30.\")\n",
    "        self.assertTupleEqual(deg_to_dms(dms_to_deg(-0.0, 0, 30)), (-0.0, 0, 30), \"Should be -0, 0, 30.\")\n",
    "        self.assertTupleEqual(deg_to_dms(dms_to_deg(18, 15, 27)), (18, 15, 27), \"Should be 18, 15, 27.\")\n",
    "        self.assertTupleEqual(deg_to_dms(dms_to_deg(-18, 15, 27)), (-18, 15, 27), \"Should be -18, 15, 27.\")\n",
    "    def test_ra(self):\n",
    "        self.assertTupleEqual(deg_to_ra(ra_to_deg(0, 0, 0, False)), (0, 0, 0), \"Should be 0, 0, 0.\")\n",
    "        self.assertTupleEqual(deg_to_ra(ra_to_deg(24, 0, 0, False)), (0, 0, 0), \"Should be 0, 0, 0.\")\n",
    "        self.assertTupleEqual(deg_to_ra(ra_to_deg(10, 0, 0, False)), (10, 0, 0), \"Should be 10, 0, 0.\")\n",
    "        self.assertTupleEqual(deg_to_ra(ra_to_deg(0, 30, 0, False)), (0, 30, 0), \"Should be 0, 30, 0.\")\n",
    "        self.assertTupleEqual(deg_to_ra(ra_to_deg(0, 0, 30, False)), (0, 0, 30), \"Should be 0, 0, 30.\")\n",
    "        self.assertTupleEqual(deg_to_ra(ra_to_deg(18, 15, 27, False)), (18, 15, 27), \"Should be 18, 15, 27.\")\n",
    "    def test_magnitude(self):\n",
    "        self.assertEqual(magnitude(np.array([0, 0, 0])), 0, \"Should be 0.\")\n",
    "        self.assertEqual(magnitude(np.array([1, 1, 1])), np.sqrt(3), \"Should be sqrt(3).\")\n",
    "        self.assertEqual(magnitude(np.array([-1, -1, -1])), np.sqrt(3), \"Should be sqrt(3).\")\n",
    "        self.assertEqual(magnitude(np.array([1, 2, 3])), np.sqrt(14), \"Should be sqrt(14).\")\n",
    "        self.assertEqual(magnitude(np.array([-1, -2, 3])), np.sqrt(14), \"Should be sqrt(14).\")\n",
    "    def test_rotation(self):\n",
    "        self.assertListEqual(list(rotate_vector(np.array([0, 0, 0]), 0, 0)), [0.0, 0.0, 0.0], \"Should be [0, 0, 0].\")\n",
    "        self.assertListEqual(list(rotate_vector(np.array([1, 1, 1]), 0, 0)), [1.0, 1.0, 1.0], \"Should be [1, 1, 1].\")\n",
    "        np.testing.assert_allclose(list(rotate_vector(np.array([1, 1, 1]), np.pi/2, 0)), [1.0, -1.0, 1.0], rtol=1e-3)\n",
    "        np.testing.assert_allclose(list(rotate_vector(np.array([1, 1, 1]), 0, np.pi/2)), [1.0, 1.0, -1.0], rtol=1e-3)\n",
    "        np.testing.assert_allclose(list(rotate_vector(np.array([1, 1, 1]), np.pi/2, np.pi/2)), [1.0, 1.0, 1.0], rtol=1e-3)\n",
    "        np.testing.assert_allclose(list(rotate_vector(np.array([1, 2, 3]), np.pi, np.pi/2)), [-1.0, 3.0, 2.0], rtol=1e-3)\n",
    "        np.testing.assert_allclose(list(rotate_vector(np.array([1, 2, 3]), np.pi, np.pi)), [-1.0, 2.0, -3.0], rtol=1e-3)\n",
    "        np.testing.assert_allclose(list(rotate_vector(np.array([1, 2, 3]), 3*np.pi/2, np.pi)), [-2.0, -1.0, -3.0], rtol=1e-3)\n",
    "        np.testing.assert_allclose(list(rotate_vector(np.array([1, 2, 3]), 3*np.pi/2, np.pi/2)), [-2.0, 3.0, -1.0], rtol=1e-3)\n",
    "\n",
    "\n",
    "unittest.main(argv=['first-arg-is-ignored'], exit=False)"
   ]
  },
  {
   "cell_type": "code",
   "execution_count": null,
   "metadata": {},
   "outputs": [],
   "source": []
  },
  {
   "cell_type": "code",
   "execution_count": null,
   "metadata": {},
   "outputs": [],
   "source": []
  }
 ],
 "metadata": {
  "kernelspec": {
   "display_name": "Python 3",
   "language": "python",
   "name": "python3"
  },
  "language_info": {
   "codemirror_mode": {
    "name": "ipython",
    "version": 3
   },
   "file_extension": ".py",
   "mimetype": "text/x-python",
   "name": "python",
   "nbconvert_exporter": "python",
   "pygments_lexer": "ipython3",
   "version": "3.6.15"
  }
 },
 "nbformat": 4,
 "nbformat_minor": 2
}
