{
 "cells": [
  {
   "cell_type": "markdown",
   "metadata": {},
   "source": [
    "# Test Cases for Programming Problems in PSET 3\n",
    "### By: Peter Lande\n",
    "\n",
    "Please use this code to perform unit tests to your programs. Your code must run without any failures to be considered complete. Please copy your code into the first cell and put your functions' names in the locations in the cells as indictated. Then run the third cell and show it to a TA. If it has no issues, the TA will mark off that you have finished the problem and no further work will be required. If you need help, talk to Peter and he can help."
   ]
  },
  {
   "cell_type": "code",
   "execution_count": 18,
   "metadata": {
    "scrolled": true
   },
   "outputs": [
    {
     "name": "stdout",
     "output_type": "stream",
     "text": [
      "(11.99999991950545, 50.0)\n",
      "(11.662443774477767, 10.338724105417388)\n"
     ]
    },
    {
     "data": {
      "text/plain": [
       "(10.609974491201438, 55.13779627047714)"
      ]
     },
     "execution_count": 18,
     "metadata": {},
     "output_type": "execute_result"
    }
   ],
   "source": [
    "# 6\n",
    "def decToRad(dec):\n",
    "    return float(dec)/180*math.pi\n",
    "\n",
    "def HMStoDeg(h,m,s,conv=False):\n",
    "    try: h,m,s=float(h),float(m),float(s)\n",
    "    except: raise Exception(\"Values must be floats\")\n",
    "    res = h*15 + m/60*15 + s/3600*15\n",
    "    res%=360\n",
    "    if conv: return decToRad(res)\n",
    "    return res\n",
    "\n",
    "def getRADec(alt:float,az:float,lst:float):\n",
    "    #convert to radians\n",
    "    alt*=math.pi/180\n",
    "    az*=math.pi/180\n",
    "    lst=HMStoDeg(lst[0],lst[1],lst[2],conv=True)\n",
    "    lat=decToRad(40.0)\n",
    "\n",
    "    dec=math.asin(math.sin(lat)*math.sin(alt)+math.cos(lat)*math.cos(alt)*math.cos(az))\n",
    "    rdec=dec\n",
    "    dec=math.degrees(dec)\n",
    "    if abs(round(dec,0)-dec)<0.000001: dec=round(dec,0)\n",
    "\n",
    "    ha=math.acos((math.sin(alt)-math.sin(lat)*math.sin(rdec))/(math.cos(lat)*math.cos(rdec)))\n",
    "    \n",
    "    if az<math.pi: ha*=-1\n",
    "    ra=(lst-ha) * 180/ math.pi / 15\n",
    "    if ra < 0: ra += 24\n",
    "        \n",
    "    return (ra,dec)\n",
    "    \n",
    "print(getRADec(0, 0, (0, 0, 0)))\n",
    "print(getRADec(60, 190, (12, 0, 0)))\n",
    "getRADec(10,20,[1,1,1])"
   ]
  },
  {
   "cell_type": "code",
   "execution_count": 19,
   "metadata": {},
   "outputs": [],
   "source": [
    "alt_az_to_ra_dec = getRADec#REPLACE THIS COMMENT WITH THE NAME OF YOUR FUNCTION, PLEASE FORMAT YOUR PARAMETERS AS (altitude, azimuth sidereal_time) and return (ra, dec)"
   ]
  },
  {
   "cell_type": "code",
   "execution_count": 20,
   "metadata": {},
   "outputs": [
    {
     "name": "stderr",
     "output_type": "stream",
     "text": [
      ".\n",
      "----------------------------------------------------------------------\n",
      "Ran 1 test in 0.003s\n",
      "\n",
      "OK\n"
     ]
    },
    {
     "data": {
      "text/plain": [
       "<unittest.main.TestProgram at 0x7fd150c27be0>"
      ]
     },
     "execution_count": 20,
     "metadata": {},
     "output_type": "execute_result"
    }
   ],
   "source": [
    "#RUN THIS AFTER RUNNING ALL OTHER CELLS; DO NOT CHANGE!!!!\n",
    "import unittest\n",
    "import numpy as np\n",
    "\n",
    "class TestPset3(unittest.TestCase):\n",
    "    def test_alt_az_to_ra_dec(self):\n",
    "        np.testing.assert_allclose(alt_az_to_ra_dec(0, 0, (0, 0, 0)), (12, 50), rtol=1e-3)\n",
    "        np.testing.assert_allclose(alt_az_to_ra_dec(0, 190, (0, 0, 0)), (22.977, -48.974), rtol=1e-3)\n",
    "        np.testing.assert_allclose(alt_az_to_ra_dec(60, 190, (12, 0, 0)), (11.662, 10.339), rtol=1e-3)\n",
    "        np.testing.assert_allclose(alt_az_to_ra_dec(60, 60, (12, 0, 0)), (14.716, 48.433), rtol=1e-3)\n",
    "        np.testing.assert_allclose(alt_az_to_ra_dec(30, 60, (0, 30, 0)), (5.970, 40.776), rtol=1e-3)\n",
    "        np.testing.assert_allclose(alt_az_to_ra_dec(30, 60, (0, 0, 30)), (5.479, 40.776), rtol=1e-3)\n",
    "        np.testing.assert_allclose(alt_az_to_ra_dec(30, 60, (24, 0, 0)), (5.470, 40.776), rtol=1e-3)\n",
    "        np.testing.assert_allclose(alt_az_to_ra_dec(0, 60, (0, 0, 0)), (7.357, 22.521), rtol=1e-3)\n",
    "        np.testing.assert_allclose(alt_az_to_ra_dec(56.7, 120, (12, 15, 0)), (14.264, 19.084), rtol=1e-3)\n",
    "\n",
    "unittest.main(argv=['first-arg-is-ignored'], exit=False)"
   ]
  },
  {
   "cell_type": "code",
   "execution_count": null,
   "metadata": {},
   "outputs": [],
   "source": []
  },
  {
   "cell_type": "code",
   "execution_count": null,
   "metadata": {},
   "outputs": [],
   "source": []
  }
 ],
 "metadata": {
  "kernelspec": {
   "display_name": "Python 3",
   "language": "python",
   "name": "python3"
  },
  "language_info": {
   "codemirror_mode": {
    "name": "ipython",
    "version": 3
   },
   "file_extension": ".py",
   "mimetype": "text/x-python",
   "name": "python",
   "nbconvert_exporter": "python",
   "pygments_lexer": "ipython3",
   "version": "3.6.15"
  },
  "vscode": {
   "interpreter": {
    "hash": "9e29db34a604ce7fea48d07150fd2d2e39997584ecc069f12d739b458c76b673"
   }
  }
 },
 "nbformat": 4,
 "nbformat_minor": 2
}
