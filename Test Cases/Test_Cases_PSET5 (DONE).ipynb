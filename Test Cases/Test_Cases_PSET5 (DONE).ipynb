{
 "cells": [
  {
   "cell_type": "markdown",
   "metadata": {},
   "source": [
    "# Test Cases for Programming Problems in PSET 5\n",
    "### By: Peter Lande\n",
    "\n",
    "Please use this code to perform unit tests to your programs. Your code must run without any failures to be considered complete. Please copy your code into the first cell and put your functions' names in the locations in the cells as indictated. Then run the third cell and show it to a TA. If it has no issues, the TA will mark off that you have finished the problem and no further work will be required. If you need help, talk to Peter and he can help."
   ]
  },
  {
   "cell_type": "code",
   "execution_count": 1,
   "metadata": {},
   "outputs": [],
   "source": [
    "#COPY YOUR CODE HERE\n",
    "\n",
    "def newton(func,der,init,err): #function, derivative, inital_guess, error_tolerance\n",
    "    prev=10000\n",
    "    while abs(init-prev)>=err:\n",
    "        prev,init=init,init-func(init)/der(init)\n",
    "    return init"
   ]
  },
  {
   "cell_type": "code",
   "execution_count": 2,
   "metadata": {},
   "outputs": [],
   "source": [
    "newton_raphson_method = newton #REPLACE THIS COMMENT WITH THE NAME OF YOUR FUNCTION, PLEASE FORMAT YOUR PARAMETERS AS (function, derivative, inital_guess, error_tolerance) and return root"
   ]
  },
  {
   "cell_type": "code",
   "execution_count": 3,
   "metadata": {},
   "outputs": [
    {
     "name": "stderr",
     "output_type": "stream",
     "text": [
      ".\n",
      "----------------------------------------------------------------------\n",
      "Ran 1 test in 0.003s\n",
      "\n",
      "OK\n"
     ]
    },
    {
     "data": {
      "text/plain": [
       "<unittest.main.TestProgram at 0x7ff36c3fd208>"
      ]
     },
     "execution_count": 3,
     "metadata": {},
     "output_type": "execute_result"
    }
   ],
   "source": [
    "#RUN THIS AFTER RUNNING ALL OTHER CELLS; DO NOT CHANGE!!!!\n",
    "import unittest, random\n",
    "import numpy as np\n",
    "\n",
    "class TestPset3(unittest.TestCase):\n",
    "    def test_newton_raphson_method(self):\n",
    "        np.testing.assert_allclose(newton_raphson_method(lambda x: x, lambda x: 1+0*x, 5, 1e-10), 0, rtol=1e-10)\n",
    "        np.testing.assert_allclose(newton_raphson_method(lambda x: (x-2)**2, lambda x: 2*x-2, 10, 1e-6), 2, rtol=1e-3)\n",
    "        np.testing.assert_allclose(newton_raphson_method(lambda x: np.sin(x), lambda x: np.cos(x), 2*np.pi/3, 1e-10), np.pi, rtol=1e-10)\n",
    "        np.testing.assert_allclose(newton_raphson_method(lambda x: x**2+2*x+1, lambda x: 2*x+2, 5, 1e-10), -1, rtol=1e-9)\n",
    "        np.testing.assert_allclose(newton_raphson_method(lambda x: x**3, lambda x: 3*x**2, 5, 1e-10), 0, atol=1e-9)\n",
    "        np.testing.assert_allclose(newton_raphson_method(lambda x: (x+10)**5, lambda x: 5*(x+10)**4, 5, 1e-10), -10, rtol=1e-10)\n",
    "        np.testing.assert_allclose(newton_raphson_method(lambda x: x+0.41*np.sin(x)-3*np.pi/4, lambda x: 1+0.41*np.cos(x), 5, 1e-10), 1.980053687, rtol=1e-10)\n",
    "\n",
    "unittest.main(argv=['first-arg-is-ignored'], exit=False)"
   ]
  },
  {
   "cell_type": "code",
   "execution_count": null,
   "metadata": {},
   "outputs": [],
   "source": []
  }
 ],
 "metadata": {
  "kernelspec": {
   "display_name": "Python 3",
   "language": "python",
   "name": "python3"
  },
  "language_info": {
   "codemirror_mode": {
    "name": "ipython",
    "version": 3
   },
   "file_extension": ".py",
   "mimetype": "text/x-python",
   "name": "python",
   "nbconvert_exporter": "python",
   "pygments_lexer": "ipython3",
   "version": "3.6.15"
  },
  "vscode": {
   "interpreter": {
    "hash": "9e29db34a604ce7fea48d07150fd2d2e39997584ecc069f12d739b458c76b673"
   }
  }
 },
 "nbformat": 4,
 "nbformat_minor": 2
}
