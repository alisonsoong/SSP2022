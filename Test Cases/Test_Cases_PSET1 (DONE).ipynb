{
 "cells": [
  {
   "cell_type": "markdown",
   "metadata": {},
   "source": [
    "# Test Cases for Programming Problems in PSET 1\n",
    "### By: Peter Lande\n",
    "\n",
    "Please use this code to perform unit tests to your program. Your code must run without any failures to be considered complete. Please copy your code into the first cell and put your functions' names in the locations in the cells as indictated. Then run the third cell and show it to a TA. If it has no issues, the TA will mark off that you have finished the problem and no further work will be required. If you need help, talk to Peter and he can help."
   ]
  },
  {
   "cell_type": "code",
   "execution_count": 8,
   "metadata": {},
   "outputs": [],
   "source": [
    "# PS1-12\n",
    "\n",
    "import math\n",
    "\n",
    "def PS1(h, m, s, conv=False):\n",
    "    return DecToRad(HMStoDeg(h,m,s)) if conv else HMStoDeg(h,m,s)\n",
    "        \n",
    "def HMStoDegInput():\n",
    "    print(\"Enter RA hours, minutes, seconds to convert to decimals\")\n",
    "    while True:\n",
    "        try:\n",
    "            h = float(input(\"RA Hours: \"))\n",
    "            m = float(input(\"RA Minutes: \"))\n",
    "            s = float(input(\"RA Seconds: \"))\n",
    "            break\n",
    "        except:\n",
    "            print(\"Enter valid floating point numbers, please!\")\n",
    "            \n",
    "    res=HMStoDeg(h,m,s)\n",
    "    \n",
    "    if \"Y\" in input(\"Convert to radians? Y or N: \"):\n",
    "        print(\"Result in radians:\", decToRad(res))\n",
    "    else: print(\"Result in degrees:\", res)\n",
    "\n",
    "def HMStoDeg(h,m,s):\n",
    "    try: h,m,s=float(h),float(m),float(s)\n",
    "    except: raise Exception(\"Values must be floats\")\n",
    "    m+=int(s/60)\n",
    "    s%=60\n",
    "    h+=int(m/60)\n",
    "    m%=60\n",
    "    h%=24\n",
    "    res = h*15 + m/60*15 + s/3600*15\n",
    "    return res\n",
    "\n",
    "def DecToRad(dec):\n",
    "    return float(dec)/180*math.pi\n",
    "\n",
    "# PS1-13\n",
    "# a\n",
    "def dot(v1, v2):\n",
    "    # 3d vector\n",
    "    return v1[0]*v2[0]+v1[1]*v2[1]+v1[2]*v2[2]\n",
    "\n",
    "# b\n",
    "def cross(v1, v2):\n",
    "    return [(v1[1]*v2[2] - v1[2]*v2[1]),-(v1[0]*v2[2] - v1[2]*v2[0]),(v1[0]*v2[1] - v1[1]*v2[0])]\n",
    "\n",
    "# c\n",
    "def tripleProd(vec1, vec2, vec3):\n",
    "    return dot(vec1, cross(vec2,vec3))"
   ]
  },
  {
   "cell_type": "code",
   "execution_count": 9,
   "metadata": {},
   "outputs": [],
   "source": [
    "ra_to_deg = PS1\n",
    "dot_product = dot\n",
    "cross_product = cross\n",
    "triple_product = tripleProd"
   ]
  },
  {
   "cell_type": "code",
   "execution_count": 10,
   "metadata": {},
   "outputs": [
    {
     "name": "stderr",
     "output_type": "stream",
     "text": [
      "....\n",
      "----------------------------------------------------------------------\n",
      "Ran 4 tests in 0.003s\n",
      "\n",
      "OK\n"
     ]
    },
    {
     "data": {
      "text/plain": [
       "<unittest.main.TestProgram at 0x7f2a7c4d50f0>"
      ]
     },
     "execution_count": 10,
     "metadata": {},
     "output_type": "execute_result"
    }
   ],
   "source": [
    "#RUN THIS AFTER RUNNING ALL OTHER CELLS; DO NOT CHANGE!!!!\n",
    "import unittest, math\n",
    "\n",
    "class TestPset1(unittest.TestCase):\n",
    "    def test_ra_to_deg(self):\n",
    "        self.assertEqual(ra_to_deg(0, 0, 0, False), 0, \"Should be 0 degrees.\")\n",
    "        self.assertEqual(ra_to_deg(0, 0, 0, True), 0, \"Should be 0 radians.\")\n",
    "        self.assertEqual(ra_to_deg(24, 0, 0, False), 0 , \"Should be 0 degrees.\")\n",
    "        self.assertEqual(ra_to_deg(24, 0, 0, True), 0 , \"Should be 0 radians.\")\n",
    "        self.assertEqual(ra_to_deg(12, 0, 0, False), 180 , \"Should be 180 degrees.\")\n",
    "        self.assertEqual(ra_to_deg(12, 0, 0, True), math.pi , \"Should be pi/2 radians.\")\n",
    "        self.assertAlmostEqual(ra_to_deg(13, 25, 36, False), 201.4, 6, \"Should be 201.4 degrees.\")\n",
    "        self.assertAlmostEqual(ra_to_deg(13, 25, 36, True), 3.515093, 6, \"Should be 3.515093 radians.\")\n",
    "    def test_dot_product(self):\n",
    "        self.assertEqual(dot_product([0, 0, 0], [0, 0, 0]), 0, \"Should be 0.\")\n",
    "        self.assertEqual(dot_product([1, 1, 1], [0, 0, 0]), 0, \"Should be 0.\")\n",
    "        self.assertEqual(dot_product([0, 0, 0], [1, 1, 1]), 0, \"Should be 0.\")\n",
    "        self.assertEqual(dot_product([1, 1, 1], [1, 1, 1]), 3, \"Should be 3.\")\n",
    "        self.assertEqual(dot_product([1, 0, 1], [1, 1, 1]), 2, \"Should be 2.\")\n",
    "        self.assertEqual(dot_product([1, 1, 0], [1, 1, 1]), 2, \"Should be 2.\")\n",
    "        self.assertEqual(dot_product([3, 2, 1], [4, 5, 6]), 28, \"Should be 28.\")\n",
    "    def test_cross_product(self):\n",
    "        self.assertEqual(cross_product([0, 0, 0], [0, 0, 0]), [0, 0, 0], \"Should be [0, 0, 0].\")\n",
    "        self.assertEqual(cross_product([1, 1, 1], [0, 0, 0]), [0, 0, 0], \"Should be [0, 0, 0].\")\n",
    "        self.assertEqual(cross_product([0, 0, 0], [1, 1, 1]), [0, 0, 0], \"Should be [0, 0, 0].\")\n",
    "        self.assertEqual(cross_product([1, 1, 1], [1, 1, 1]), [0, 0, 0], \"Should be [0, 0, 0].\")\n",
    "        self.assertEqual(cross_product([1, 2, 3], [-1, -2, -3]), [0, 0, 0], \"Should be [0, 0, 0].\")\n",
    "        self.assertEqual(cross_product([1, 0, 1], [1, 1, 1]), [-1, 0, 1], \"Should be [-1, 0, 1].\")\n",
    "        self.assertEqual(cross_product([1, 1, 0], [1, 1, 1]), [1, -1, 0], \"Should be [1, -1, 0].\")\n",
    "        self.assertEqual(cross_product([3, 2, 1], [4, 5, 6]), [7, -14, 7], \"Should be [7, -14, 7].\")\n",
    "    def test_triple_product(self):\n",
    "        self.assertEqual(triple_product([0, 0, 0], [0, 0, 0], [0, 0, 0]), 0, \"Should be 0.\")\n",
    "        self.assertEqual(triple_product([0, 0, 0], [1, 2, 3], [4, 5, 6]), 0, \"Should be 0.\")\n",
    "        self.assertEqual(triple_product([1, 1, 1], [1, 2, 3], [-1, -2, -3]), 0, \"Should be 0.\")\n",
    "        self.assertEqual(triple_product([1, 1, 1], [1, 0, 1], [1, 1, 0]), 1, \"Should be 1.\")\n",
    "        self.assertEqual(triple_product([1, 2, 3], [1, 1, 0], [1, 0, 1]), -4, \"Should be -4.\")\n",
    "\n",
    "unittest.main(argv=['first-arg-is-ignored'], exit=False)"
   ]
  },
  {
   "cell_type": "code",
   "execution_count": null,
   "metadata": {},
   "outputs": [],
   "source": []
  }
 ],
 "metadata": {
  "kernelspec": {
   "display_name": "Python 3",
   "language": "python",
   "name": "python3"
  },
  "language_info": {
   "codemirror_mode": {
    "name": "ipython",
    "version": 3
   },
   "file_extension": ".py",
   "mimetype": "text/x-python",
   "name": "python",
   "nbconvert_exporter": "python",
   "pygments_lexer": "ipython3",
   "version": "3.6.13"
  }
 },
 "nbformat": 4,
 "nbformat_minor": 2
}
