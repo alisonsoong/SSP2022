{
 "cells": [
  {
   "cell_type": "code",
   "execution_count": 2,
   "id": "bc0d306d",
   "metadata": {},
   "outputs": [],
   "source": [
    "import numpy as np\n",
    "import math\n",
    "import numpy.polynomial.polynomial as poly\n",
    "import matplotlib.pyplot as plt"
   ]
  },
  {
   "cell_type": "code",
   "execution_count": 5,
   "id": "7f3edc9b",
   "metadata": {},
   "outputs": [],
   "source": [
    "def det2x2(m)->float:\n",
    "    '''Returns the determinant of a 2x2'''\n",
    "    return m[0][0]*m[1][1]-m[0][1]*m[1][0]\n"
   ]
  },
  {
   "cell_type": "code",
   "execution_count": 6,
   "id": "7c8dc056",
   "metadata": {},
   "outputs": [
    {
     "data": {
      "image/png": "[encoded data removed]",
      "text/plain": [
       "<Figure size 432x288 with 1 Axes>"
      ]
     },
     "metadata": {
      "needs_background": "light"
     },
     "output_type": "display_data"
    },
    {
     "name": "stdout",
     "output_type": "stream",
     "text": [
      "m: -1.3090494483505812 b: 30.99616614943963\n",
      "asteroid mag: 18.546099170592967\n"
     ]
    }
   ],
   "source": [
    "# for photometry\n",
    "def leastSqFit(vals):\n",
    "    N=len(list(vals))\n",
    "    x=vals[:,0]\n",
    "    y=vals[:,1]\n",
    "    sumProdXY=sum([x[i]*y[i] for i in range(N)])\n",
    "    sumX=sum([x[i] for i in range(N)])\n",
    "    sumY=sum([y[i] for i in range(N)])\n",
    "    sumXSq=sum([x[i]*x[i] for i in range(N)])\n",
    "    sumYSq=sum([y[i]*y[i] for i in range(N)])\n",
    "    #print(N,sumProdXY,sumX,sumY,sumXSq,sumYSq)\n",
    "    \n",
    "    Dm=det2x2([[sumProdXY, sumX],[sumY, N]])\n",
    "    D=det2x2([[sumXSq, sumX],[sumX, N]])\n",
    "    m=Dm/D\n",
    "    \n",
    "    Db=det2x2([[sumXSq, sumProdXY],[sumX, sumY]])\n",
    "    D=det2x2([[sumXSq, sumX],[sumX, N]])\n",
    "    b=Db/D\n",
    "    #print(m,b)\n",
    "    \n",
    "    X=np.arange(0,np.max(x),0.1)\n",
    "    Y=m*X+b\n",
    "    plt.plot(X,Y)\n",
    "    plt.plot(x,y,'ro')    \n",
    "    plt.show()\n",
    "    \n",
    "    return m,b\n",
    "    \n",
    "    \n",
    "'''\n",
    "Source-Sky\n",
    "13504.37587\n",
    "16211.9287\n",
    "12897.46602\n",
    "\n",
    "---1---\n",
    "Vmag (APASS, DS9) Source-Sky\n",
    "10.675 4834410.339064\n",
    "13.055 1093385.083591\n",
    "16.552 57937.781586\n",
    "'''\n",
    "\n",
    "# notes:\n",
    "# - make sure to use brighter stars (magnitude <13 or <12)\n",
    "# - use three different photos and calculate magnitude of asteroid \n",
    "\n",
    "# first photo\n",
    "starSourceSky1 = [4834410.339064, 1093385.083591, 57937.781586]\n",
    "starVMag1 = [10.675, 13.055, 16.552]\n",
    "astSourceSky1 = 13504.37587\n",
    "\n",
    "vals=np.array([[math.log(starSourceSky1[i]), starVMag1[i]] for i in range(len(starSourceSky1))])\n",
    "#print(vals)\n",
    "\n",
    "m,b=leastSqFit(vals)\n",
    "\n",
    "print(\"m:\",m,\"b:\",b)\n",
    "print(\"asteroid mag:\",b+m*math.log(astSourceSky1))\n",
    "\n",
    "\n",
    "# second photo\n",
    "\n",
    "# third photo\n"
   ]
  },
  {
   "cell_type": "code",
   "execution_count": null,
   "id": "1f22288f",
   "metadata": {},
   "outputs": [],
   "source": []
  }
 ],
 "metadata": {
  "kernelspec": {
   "display_name": "Python 3",
   "language": "python",
   "name": "python3"
  },
  "language_info": {
   "codemirror_mode": {
    "name": "ipython",
    "version": 3
   },
   "file_extension": ".py",
   "mimetype": "text/x-python",
   "name": "python",
   "nbconvert_exporter": "python",
   "pygments_lexer": "ipython3",
   "version": "3.6.15"
  }
 },
 "nbformat": 4,
 "nbformat_minor": 5
}
