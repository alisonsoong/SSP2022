{
 "cells": [
  {
   "cell_type": "code",
   "execution_count": null,
   "id": "256e2c36",
   "metadata": {},
   "outputs": [],
   "source": [
    "import numpy as np\n",
    "import math\n",
    "from astropy.io import fits\n",
    "\n",
    "rmsDec,rmsRA=[],[]\n",
    "for i in range(1,13):\n",
    "    file = \"/home/soonali/Desktop/fits/\"+str(i)+\".fits\"\n",
    "    data = fits.open(file)[1].data\n",
    "\n",
    "    fieldDec, indexDec = data.field_dec[:], data.index_dec[:]\n",
    "    fieldRA, indexRA = data.field_ra[:], data.index_ra[:]\n",
    "\n",
    "    dec = np.sqrt(1/int(fieldDec.shape[0]) * sum([(indexDec[i]-fieldDec[i])**2 for i in range(int(fieldDec.shape[0]))]))\n",
    "    ra = np.sqrt(1/int(fieldRA.shape[0]) * sum([(indexRA[i]-fieldRA[i])**2 for i in range(int(fieldDec.shape[0]))]))\n",
    "\n",
    "    rmsDec.append(dec)\n",
    "    rmsRA.append(ra)\n",
    "    \n",
    "for i in range(len(rmsDec)):\n",
    "    print(i, rmsRA[i], rmsDec[i])\n"
   ]
  }
 ],
 "metadata": {
  "kernelspec": {
   "display_name": "Python 3",
   "language": "python",
   "name": "python3"
  },
  "language_info": {
   "codemirror_mode": {
    "name": "ipython",
    "version": 3
   },
   "file_extension": ".py",
   "mimetype": "text/x-python",
   "name": "python",
   "nbconvert_exporter": "python",
   "pygments_lexer": "ipython3",
   "version": "3.6.15"
  }
 },
 "nbformat": 4,
 "nbformat_minor": 5
}
