{
 "cells": [
  {
   "cell_type": "code",
   "execution_count": 2,
   "id": "8c5d71fa",
   "metadata": {},
   "outputs": [
    {
     "name": "stdout",
     "output_type": "stream",
     "text": [
      "1 5.7256300887749634e-05 5.529252817474232e-05\n",
      "2 5.793483101859544e-05 5.581118607817716e-05\n",
      "3 0.00016358675885824788 7.042962565173542e-05\n",
      "4 3.1493797625931136e-05 1.4978855716304113e-05\n",
      "5 3.141596170612888e-05 1.1802393723154274e-05\n",
      "6 3.583179772403628e-05 1.6378018788202888e-05\n",
      "7 2.503636088527352e-05 2.9530242938562554e-05\n",
      "8 2.775967029371886e-05 2.9787688487567597e-05\n",
      "9 2.9481361792827933e-05 2.6839197801106208e-05\n",
      "10 1.8785097307529483e-05 1.4163737522389658e-05\n",
      "11 1.70017847405214e-05 1.423617878200533e-05\n",
      "12 1.7235743883998084e-05 1.584720543651008e-05\n"
     ]
    }
   ],
   "source": [
    "import numpy as np\n",
    "import math\n",
    "from astropy.io import fits\n",
    "\n",
    "rmsDec,rmsRA=[],[]\n",
    "for i in range(1,13):\n",
    "    file = \"/home/soonali/Desktop/fits/\"+str(i)+\".fits\"\n",
    "    data = fits.open(file)[1].data\n",
    "\n",
    "    fieldDec, indexDec = data.field_dec[:], data.index_dec[:]\n",
    "    fieldRA, indexRA = data.field_ra[:], data.index_ra[:]\n",
    "\n",
    "    dec = np.sqrt(1/int(fieldDec.shape[0]) * sum([(indexDec[i]-fieldDec[i])**2 for i in range(int(fieldDec.shape[0]))]))\n",
    "    ra = np.sqrt(1/int(fieldRA.shape[0]) * sum([(indexRA[i]-fieldRA[i])**2 for i in range(int(fieldDec.shape[0]))]))\n",
    "\n",
    "    rmsDec.append(dec)\n",
    "    rmsRA.append(ra)\n",
    "    \n",
    "for i in range(len(rmsDec)):\n",
    "    print(i+1, rmsRA[i], rmsDec[i])\n"
   ]
  },
  {
   "cell_type": "code",
   "execution_count": null,
   "id": "62e8d7ea",
   "metadata": {},
   "outputs": [],
   "source": []
  }
 ],
 "metadata": {
  "kernelspec": {
   "display_name": "Python 3",
   "language": "python",
   "name": "python3"
  },
  "language_info": {
   "codemirror_mode": {
    "name": "ipython",
    "version": 3
   },
   "file_extension": ".py",
   "mimetype": "text/x-python",
   "name": "python",
   "nbconvert_exporter": "python",
   "pygments_lexer": "ipython3",
   "version": "3.6.15"
  }
 },
 "nbformat": 4,
 "nbformat_minor": 5
}
